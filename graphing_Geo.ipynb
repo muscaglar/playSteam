{
 "cells": [
  {
   "cell_type": "code",
   "execution_count": 3,
   "metadata": {},
   "outputs": [],
   "source": [
    "#!/usr/bin/env python3.7\n",
    "import pandas as pd\n",
    "import numpy as np\n",
    "import matplotlib.pyplot as plt\n",
    "from sklearn.cluster import KMeans\n",
    "import timeit\n",
    "from datetime import date\n",
    "import seaborn as sns\n",
    "\n",
    "import statsmodels.api as sm\n",
    "\n",
    "from scipy import stats\n",
    "import scipy as scipy\n",
    "\n",
    "import svgutils.transform as sg\n",
    "import sys\n",
    "\n",
    "from sklearn.linear_model import LinearRegression\n",
    "from sklearn.linear_model import LassoCV\n",
    "from sklearn import preprocessing\n",
    "from sklearn.model_selection import train_test_split\n",
    "from sklearn.preprocessing import PolynomialFeatures\n",
    "from sklearn.pipeline import make_pipeline\n",
    "from sklearn.metrics import silhouette_score\n",
    "\n",
    "pd.set_option('display.max_columns', None)  # Give us all the columns without truncation    "
   ]
  },
  {
   "cell_type": "code",
   "execution_count": 4,
   "metadata": {},
   "outputs": [],
   "source": [
    "def importCSV(filePath):\n",
    "    dataFrame = pd.read_csv(filePath, header=0, low_memory=False)\n",
    "    return dataFrame\n",
    "\n",
    "def reIndex(DF):\n",
    "    DF.reset_index(drop=True, inplace=True)\n",
    "    return 0\n",
    "\n",
    "def nullDrop(DF,col):\n",
    "    return DF.dropna(subset=col)\n",
    "\n",
    "def dfDrop(DF,col,inPlace):\n",
    "    if(inPlace):\n",
    "        DF.drop(col, inplace=True, axis=1)\n",
    "        return 0\n",
    "    else:\n",
    "        return DF.drop(col,axis=1)\n",
    "\n",
    "def makeDict(value,key):\n",
    "    myDict = value\n",
    "    myDict.index = key\n",
    "    return myDict.to_dict()\n",
    "\n",
    "\n",
    "def normaliseDF(DF):\n",
    "    columns = list(DF) \n",
    "    for i in columns:\n",
    "        DF[i] = DF[i]/DF[i].max()\n",
    "    return DF"
   ]
  },
  {
   "cell_type": "code",
   "execution_count": 116,
   "metadata": {},
   "outputs": [],
   "source": [
    "####################################### Dataframes ##########################################################\n",
    "\n",
    "#paidGames = importCSV('data/processed/paidGames.csv')  #appid  Rating  type  Price  Units_Sold  Total_Revenue  playtime_2weeks playtime_forever  store_time_days\n",
    "#freeGames = importCSV('data/processed/freeGames.csv') #appid  Rating  type  Price  Units_Sold  Total_Revenue  playtime_2weeks playtime_forever  store_time_days\n",
    "\n",
    "#paidDLC = importCSV('data/processed/paidDLC.csv') #appid  Rating  type  Price  Units_Sold  Total_Revenue  playtime_2weeks playtime_forever  store_time_days\n",
    "#freeDLC = importCSV('data/processed/freeDLC.csv') #appid  Rating  type  Price  Units_Sold  Total_Revenue  playtime_2weeks playtime_forever  store_time_days\n",
    "\n",
    "#paidMods = importCSV('data/processed/paidMods.csv') #appid  Rating  type  Price  Units_Sold  Total_Revenue  playtime_2weeks playtime_forever  store_time_days\n",
    "#freeMods = importCSV('data/processed/freeMods.csv') #appid  Rating  type  Price  Units_Sold  Total_Revenue  playtime_2weeks playtime_forever  store_time_days\n",
    "\n",
    "gameLocPriceCount = importCSV('data/processed/gameLocPriceCount.csv') #Country  Total_Revenue  Revenue_Per_Player\n",
    "gameLocPriceCountTop = importCSV('data/processed/gameLocPriceCountTop.csv') # Country  Total_Revenue  Revenue_Per_Player\n",
    "playerCountriesCount = importCSV('data/processed/playerCountriesCount.csv') #Country Percentage of Players\n",
    "\n",
    "#socialData = importCSV('data/processed/socialData.csv') #steamid  daysOld  Number_Friends  Number_Groups  Mult_Play_2Week  Mult_Play_All  NonMult_Play_2Week  NonMult_Play_All \n",
    "\n",
    "#games = importCSV('data/processed/games.csv') # steamid, appid, playtime_2weeks, playtime_forever, dateretrieved\n",
    "\n",
    "appInfo = importCSV(\"data/App_ID_Info.csv\") # appid, title, type (game, mod, dlc, hardware etc), Required_Age, Is_multiplayer, Price, Rating\n",
    "\n",
    "#gameWithGenre = importCSV('data/processed/gameWithGenre.csv') #steamid   appid  playtime_2weeks  playtime_forever   genre\n",
    "\n",
    "playerProfile = importCSV('data/processed/playerProfile.csv') #playerProfile # steamid   appid  playtime_forever  Friends  Rating\n",
    "\n",
    "#############################################################################################################\n",
    "#############################################################################################################\n",
    "#############################################################################################################\n",
    "#############################################################################################################"
   ]
  },
  {
   "cell_type": "code",
   "execution_count": 80,
   "metadata": {},
   "outputs": [],
   "source": [
    "##### Name of the most popoular game within each country\n",
    "############ Should have done this originally... Plan approach better next time\n",
    "\n",
    "playerProfile.insert(5,'Location',0)\n",
    "playerData = importCSV(\"data/Player_Summaries.csv\")\n",
    "playerData = nullDrop(playerData,['loccountrycode'])\n",
    "steamidLocationDict = makeDict(playerData['loccountrycode'],playerData['steamid'])\n",
    "playerProfile['Location'] = playerProfile.steamid.map(steamidLocationDict).fillna(playerProfile['Location'])\n",
    "playerProfile = playerProfile[playerProfile['Location']!=0]\n",
    "playerProfile.head()\n",
    "reIndex(playerProfile)\n",
    "mostPopularGames = playerProfile.groupby(['Location','appid']).sum()\n",
    "dfDrop(mostPopularGames,['steamid','Friends','Rating'],1)\n",
    "mostPopularGames.reset_index(inplace=True) \n",
    "uniqueCounteries = mostPopularGames.Location.unique()\n",
    "apps = [None] * 196\n",
    "for i in range(0,196):\n",
    "    temp = mostPopularGames[mostPopularGames.Location==uniqueCounteries[i]].sort_values(by=['playtime_forever'], ascending=False)\n",
    "    reIndex(temp)\n",
    "    apps[i]= temp.appid[0]\n",
    "    \n",
    "countryTopApp = pd.DataFrame(list(map(np.ravel, uniqueCounteries)))\n",
    "countryTopApp['Apps'] = apps\n",
    "countryTopApp['App_Name'] = apps\n",
    "appIDNameDict = makeDict(appInfo['Title'],appInfo['appid'])\n",
    "countryTopApp['App_Name'] = countryTopApp.Apps.map(appIDNameDict).fillna(countryTopApp['App_Name'])\n",
    "\n",
    "topAppDict = makeDict(countryTopApp['App_Name'],countryTopApp[0])\n"
   ]
  },
  {
   "cell_type": "code",
   "execution_count": 127,
   "metadata": {},
   "outputs": [],
   "source": [
    "playerCountriesCount['Most Popular Game'] = 0\n",
    "playerCountriesCount['Most Popular Game'] = playerCountriesCount.Country.map(topAppDict).fillna(playerCountriesCount['Most Popular Game'])\n"
   ]
  },
  {
   "cell_type": "code",
   "execution_count": 133,
   "metadata": {},
   "outputs": [],
   "source": [
    "gameLocPriceCount['Most Popular Game'] = 0\n",
    "gameLocPriceCount['Most Popular Game'] = gameLocPriceCount.Country.map(topAppDict).fillna(gameLocPriceCount['Most Popular Game'])\n",
    "\n",
    "gameLocPriceCountTop['Most Popular Game'] = 0\n",
    "gameLocPriceCountTop['Most Popular Game'] = gameLocPriceCountTop.Country.map(topAppDict).fillna(gameLocPriceCountTop['Most Popular Game'])\n",
    "\n",
    "\n"
   ]
  },
  {
   "cell_type": "code",
   "execution_count": 128,
   "metadata": {},
   "outputs": [
    {
     "data": {
      "text/html": [
       "<div>\n",
       "<style scoped>\n",
       "    .dataframe tbody tr th:only-of-type {\n",
       "        vertical-align: middle;\n",
       "    }\n",
       "\n",
       "    .dataframe tbody tr th {\n",
       "        vertical-align: top;\n",
       "    }\n",
       "\n",
       "    .dataframe thead th {\n",
       "        text-align: right;\n",
       "    }\n",
       "</style>\n",
       "<table border=\"1\" class=\"dataframe\">\n",
       "  <thead>\n",
       "    <tr style=\"text-align: right;\">\n",
       "      <th></th>\n",
       "      <th>Country</th>\n",
       "      <th>Percentage of Players</th>\n",
       "      <th>Most Popular Game</th>\n",
       "    </tr>\n",
       "  </thead>\n",
       "  <tbody>\n",
       "    <tr>\n",
       "      <th>0</th>\n",
       "      <td>US</td>\n",
       "      <td>19.228014</td>\n",
       "      <td>Team Fortress 2</td>\n",
       "    </tr>\n",
       "    <tr>\n",
       "      <th>1</th>\n",
       "      <td>RU</td>\n",
       "      <td>11.297254</td>\n",
       "      <td>Dota 2</td>\n",
       "    </tr>\n",
       "    <tr>\n",
       "      <th>2</th>\n",
       "      <td>DE</td>\n",
       "      <td>6.510147</td>\n",
       "      <td>Counter-Strike: Source</td>\n",
       "    </tr>\n",
       "    <tr>\n",
       "      <th>3</th>\n",
       "      <td>GB</td>\n",
       "      <td>4.942300</td>\n",
       "      <td>Team Fortress 2</td>\n",
       "    </tr>\n",
       "    <tr>\n",
       "      <th>4</th>\n",
       "      <td>BR</td>\n",
       "      <td>4.930362</td>\n",
       "      <td>Dota 2</td>\n",
       "    </tr>\n",
       "  </tbody>\n",
       "</table>\n",
       "</div>"
      ],
      "text/plain": [
       "  Country  Percentage of Players       Most Popular Game\n",
       "0      US              19.228014         Team Fortress 2\n",
       "1      RU              11.297254                  Dota 2\n",
       "2      DE               6.510147  Counter-Strike: Source\n",
       "3      GB               4.942300         Team Fortress 2\n",
       "4      BR               4.930362                  Dota 2"
      ]
     },
     "execution_count": 128,
     "metadata": {},
     "output_type": "execute_result"
    }
   ],
   "source": [
    "playerCountriesCount.head()"
   ]
  },
  {
   "cell_type": "code",
   "execution_count": 129,
   "metadata": {},
   "outputs": [
    {
     "name": "stdout",
     "output_type": "stream",
     "text": [
      "  Country  Percentage of Players       Most Popular Game\n",
      "0      US              19.228014         Team Fortress 2\n",
      "1      RU              11.297254                  Dota 2\n",
      "2      DE               6.510147  Counter-Strike: Source\n",
      "3      GB               4.942300         Team Fortress 2\n",
      "4      BR               4.930362                  Dota 2\n",
      "5      FR               4.377238  Counter-Strike: Source\n",
      "6      CA               3.688818  Counter-Strike: Source\n",
      "7      PL               2.594509          Counter-Strike\n",
      "8      UA               2.562674                  Dota 2\n",
      "9      AU               2.423398                  Dota 2\n"
     ]
    },
    {
     "data": {
      "text/plain": [
       "(211, 3)"
      ]
     },
     "execution_count": 129,
     "metadata": {},
     "output_type": "execute_result"
    }
   ],
   "source": [
    "print(playerCountriesCount[0:10])\n",
    "playerCountriesCount.shape"
   ]
  },
  {
   "cell_type": "code",
   "execution_count": 135,
   "metadata": {},
   "outputs": [
    {
     "name": "stdout",
     "output_type": "stream",
     "text": [
      "  Country  Total_Revenue  Revenue_Per_Player       Most Popular Game\n",
      "0      US   2.996877e+06           13.511861         Team Fortress 2\n",
      "1      GB   9.525183e+05           13.573277         Team Fortress 2\n",
      "2      DE   6.325907e+05           14.014283  Counter-Strike: Source\n",
      "3      CA   5.895755e+05           13.760017  Counter-Strike: Source\n",
      "4      RU   4.747703e+05           13.807080                  Dota 2\n",
      "5      AU   3.576973e+05           13.683384                  Dota 2\n",
      "6      FR   3.425370e+05           13.504849  Counter-Strike: Source\n",
      "7      SE   2.492805e+05           13.683198          Counter-Strike\n",
      "8      BR   2.333884e+05           13.136061                  Dota 2\n",
      "9      PL   2.058247e+05           12.466666          Counter-Strike\n"
     ]
    },
    {
     "data": {
      "text/plain": [
       "(196, 4)"
      ]
     },
     "execution_count": 135,
     "metadata": {},
     "output_type": "execute_result"
    }
   ],
   "source": [
    "print(gameLocPriceCount[0:10])\n",
    "gameLocPriceCount.shape\n"
   ]
  },
  {
   "cell_type": "code",
   "execution_count": 134,
   "metadata": {},
   "outputs": [
    {
     "name": "stdout",
     "output_type": "stream",
     "text": [
      "  Country  Total_Revenue  Revenue_Per_Player       Most Popular Game\n",
      "0      DE   6.325907e+05           14.014283  Counter-Strike: Source\n",
      "1      RU   4.747703e+05           13.807080                  Dota 2\n",
      "2      CA   5.895755e+05           13.760017  Counter-Strike: Source\n",
      "3      AU   3.576973e+05           13.683384                  Dota 2\n",
      "4      SE   2.492805e+05           13.683198          Counter-Strike\n",
      "5      GB   9.525183e+05           13.573277         Team Fortress 2\n",
      "6      US   2.996877e+06           13.511861         Team Fortress 2\n",
      "7      FR   3.425370e+05           13.504849  Counter-Strike: Source\n",
      "8      BR   2.333884e+05           13.136061                  Dota 2\n",
      "9      PL   2.058247e+05           12.466666          Counter-Strike\n"
     ]
    },
    {
     "data": {
      "text/plain": [
       "(10, 4)"
      ]
     },
     "execution_count": 134,
     "metadata": {},
     "output_type": "execute_result"
    }
   ],
   "source": [
    "print(gameLocPriceCountTop[0:10])\n",
    "gameLocPriceCountTop.shape"
   ]
  }
 ],
 "metadata": {
  "anaconda-cloud": {},
  "kernelspec": {
   "display_name": "Python 3",
   "language": "python",
   "name": "python3"
  },
  "language_info": {
   "codemirror_mode": {
    "name": "ipython",
    "version": 3
   },
   "file_extension": ".py",
   "mimetype": "text/x-python",
   "name": "python",
   "nbconvert_exporter": "python",
   "pygments_lexer": "ipython3",
   "version": "3.7.4"
  }
 },
 "nbformat": 4,
 "nbformat_minor": 1
}
